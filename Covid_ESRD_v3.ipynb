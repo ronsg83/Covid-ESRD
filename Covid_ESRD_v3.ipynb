{
 "cells": [
  {
   "cell_type": "code",
   "execution_count": 1,
   "metadata": {},
   "outputs": [],
   "source": [
    "import pandas as pd\n",
    "import os\n",
    "import matplotlib.pyplot as plt\n",
    "import requests\n",
    "import re\n",
    "from bs4 import BeautifulSoup\n",
    "import seaborn as sns\n",
    "import scipy.stats\n",
    "import numpy as np\n",
    "from collections import Counter\n",
    "from statsmodels.formula.api import ols\n",
    "from statsmodels.formula.api import gls\n",
    "from statsmodels.stats.anova import anova_lm\n",
    "from sklearn.linear_model import LinearRegression\n",
    "from scipy import stats\n",
    "\n"
   ]
  },
  {
   "cell_type": "code",
   "execution_count": 2,
   "metadata": {},
   "outputs": [
    {
     "data": {
      "text/plain": [
       "['Covid_ESRD_v3.ipynb',\n",
       " 'geo_export_33ca7ae0-c469-46ed-84da-cc7587ccbfe6.dbf',\n",
       " 'Untitled1.ipynb',\n",
       " '.DS_Store',\n",
       " 'ESRD_COVID_data_May08.xlsx',\n",
       " 'Untitled.ipynb',\n",
       " 'chicago_zip_covid.csv',\n",
       " 'Impact of poverty and race on pre-end-stage renal disease care among dialysis patients in the United States.pdf',\n",
       " 'Covid_ESRD_v2.ipynb',\n",
       " 'ESRD_COVID_data_May03.xlsx',\n",
       " 'chicago_zip_covid_May_9.csv',\n",
       " 'geo_export_33ca7ae0-c469-46ed-84da-cc7587ccbfe6.shx',\n",
       " 'geo_export_33ca7ae0-c469-46ed-84da-cc7587ccbfe6.shp',\n",
       " 'Covid_ESRD.ipynb',\n",
       " 'chicago_zip_covid_May_6.csv',\n",
       " 'Time trends in the association of ESRD incidence with area‐level poverty in the US population.pdf',\n",
       " '.ipynb_checkpoints',\n",
       " 'main_dataframe.csv',\n",
       " 'Chicago_covid.ipynb',\n",
       " 'geo_export_33ca7ae0-c469-46ed-84da-cc7587ccbfe6.prj']"
      ]
     },
     "execution_count": 2,
     "metadata": {},
     "output_type": "execute_result"
    }
   ],
   "source": [
    "os.listdir()"
   ]
  },
  {
   "cell_type": "markdown",
   "metadata": {},
   "source": [
    "# Functions"
   ]
  },
  {
   "cell_type": "code",
   "execution_count": 3,
   "metadata": {},
   "outputs": [],
   "source": [
    "def pearsonr_ci(x,y,alpha=0.05):\n",
    "    ''' calculate Pearson correlation along with the confidence interval using scipy and numpy\n",
    "    Parameters\n",
    "    ----------\n",
    "    x, y : iterable object such as a list or np.array\n",
    "      Input for correlation calculation\n",
    "    alpha : float\n",
    "      Significance level. 0.05 by default\n",
    "    Returns\n",
    "    -------\n",
    "    r : float\n",
    "      Pearson's correlation coefficient\n",
    "    pval : float\n",
    "      The corresponding p value\n",
    "    lo, hi : float\n",
    "      The lower and upper bound of confidence intervals\n",
    "    '''\n",
    "\n",
    "    r, p = stats.pearsonr(x,y)\n",
    "    r_z = np.arctanh(r)\n",
    "    se = 1/np.sqrt(x.size-3)\n",
    "    z = stats.norm.ppf(1-alpha/2)\n",
    "    lo_z, hi_z = r_z-z*se, r_z+z*se\n",
    "    lo, hi = np.tanh((lo_z, hi_z))\n",
    "    return r, p, lo, hi"
   ]
  },
  {
   "cell_type": "markdown",
   "metadata": {},
   "source": [
    "# Load and Prepare"
   ]
  },
  {
   "cell_type": "code",
   "execution_count": 4,
   "metadata": {},
   "outputs": [
    {
     "name": "stdout",
     "output_type": "stream",
     "text": [
      "(471, 3)\n",
      "\n"
     ]
    },
    {
     "data": {
      "text/html": [
       "<div>\n",
       "<style scoped>\n",
       "    .dataframe tbody tr th:only-of-type {\n",
       "        vertical-align: middle;\n",
       "    }\n",
       "\n",
       "    .dataframe tbody tr th {\n",
       "        vertical-align: top;\n",
       "    }\n",
       "\n",
       "    .dataframe thead th {\n",
       "        text-align: right;\n",
       "    }\n",
       "</style>\n",
       "<table border=\"1\" class=\"dataframe\">\n",
       "  <thead>\n",
       "    <tr style=\"text-align: right;\">\n",
       "      <th></th>\n",
       "      <th>il_zip</th>\n",
       "      <th>total_tested</th>\n",
       "      <th>total_positive</th>\n",
       "    </tr>\n",
       "  </thead>\n",
       "  <tbody>\n",
       "    <tr>\n",
       "      <td>466</td>\n",
       "      <td>62920</td>\n",
       "      <td>83</td>\n",
       "      <td>20</td>\n",
       "    </tr>\n",
       "    <tr>\n",
       "      <td>467</td>\n",
       "      <td>62948</td>\n",
       "      <td>204</td>\n",
       "      <td>6</td>\n",
       "    </tr>\n",
       "    <tr>\n",
       "      <td>468</td>\n",
       "      <td>62959</td>\n",
       "      <td>480</td>\n",
       "      <td>23</td>\n",
       "    </tr>\n",
       "    <tr>\n",
       "      <td>469</td>\n",
       "      <td>62966</td>\n",
       "      <td>324</td>\n",
       "      <td>40</td>\n",
       "    </tr>\n",
       "    <tr>\n",
       "      <td>470</td>\n",
       "      <td>62992</td>\n",
       "      <td>54</td>\n",
       "      <td>20</td>\n",
       "    </tr>\n",
       "  </tbody>\n",
       "</table>\n",
       "</div>"
      ],
      "text/plain": [
       "     il_zip  total_tested  total_positive\n",
       "466   62920            83              20\n",
       "467   62948           204               6\n",
       "468   62959           480              23\n",
       "469   62966           324              40\n",
       "470   62992            54              20"
      ]
     },
     "execution_count": 4,
     "metadata": {},
     "output_type": "execute_result"
    }
   ],
   "source": [
    "# Get latest data for IDPH\n",
    "df_chicago_zip_covid_latest = pd.read_csv('chicago_zip_covid_May_9.csv').\\\n",
    "        rename(columns = {'Zip':'il_zip',\n",
    "                          'Tested':'total_tested',\n",
    "                          'Positive Cases':'total_positive'})\n",
    "print(df_chicago_zip_covid_latest.shape)\n",
    "print()\n",
    "df_chicago_zip_covid_latest.tail()"
   ]
  },
  {
   "cell_type": "code",
   "execution_count": 5,
   "metadata": {},
   "outputs": [
    {
     "name": "stdout",
     "output_type": "stream",
     "text": [
      "(1382, 23)\n"
     ]
    }
   ],
   "source": [
    "# Get demographics and poverty Data\n",
    "df_chicago_zip_covid = pd.read_excel('ESRD_COVID_data_May08.xlsx').rename(columns = {'percent_hisp_or_latino_any_race':\n",
    "                                                                         'percent_hispanic'})\n",
    "df_chicago_zip_covid = df_chicago_zip_covid.query(\"tot_pop > 0\")\n",
    "print(df_chicago_zip_covid.shape)"
   ]
  },
  {
   "cell_type": "code",
   "execution_count": 6,
   "metadata": {},
   "outputs": [
    {
     "name": "stdout",
     "output_type": "stream",
     "text": [
      "(466, 25)\n",
      "(222, 26)\n",
      "<class 'pandas.core.frame.DataFrame'>\n",
      "Int64Index: 222 entries, 2 to 307\n",
      "Data columns (total 26 columns):\n",
      "il_zip                                      222 non-null int64\n",
      "dialysis_centers                            222 non-null int64\n",
      "total_dialysis_stations                     222 non-null int64\n",
      "latitude                                    222 non-null float64\n",
      "longitude                                   222 non-null float64\n",
      "percent_below_poverty_line                  222 non-null float64\n",
      "tot_pop                                     222 non-null int64\n",
      "percent_white                               222 non-null float64\n",
      "percent_black                               222 non-null float64\n",
      "percent_american_indian                     222 non-null float64\n",
      "percent_asian                               222 non-null float64\n",
      "percent_native_hawaiian_pacific_islander    222 non-null float64\n",
      "percent_some_other_race                     222 non-null float64\n",
      "median_household_income                     222 non-null float64\n",
      "percent_hispanic                            222 non-null float64\n",
      "percent_NOT_hisp_or_latino_any_race         222 non-null float64\n",
      "perc_age_65_and_above                       222 non-null float64\n",
      "perc_age_75_and_above                       222 non-null float64\n",
      "median_age                                  222 non-null float64\n",
      "males_per_hundred_females                   222 non-null float64\n",
      "perc_families_below_poverty                 222 non-null float64\n",
      "total_tested                                222 non-null int64\n",
      "total_positive                              222 non-null int64\n",
      "tests_per_capita                            222 non-null float64\n",
      "positives_per_capita                        222 non-null float64\n",
      "infection_rate                              222 non-null float64\n",
      "dtypes: float64(20), int64(6)\n",
      "memory usage: 46.8 KB\n"
     ]
    }
   ],
   "source": [
    "# Combine data \n",
    "# Combine Data \n",
    "df_main = df_chicago_zip_covid.merge(df_chicago_zip_covid_latest, \n",
    "                                     on='il_zip', \n",
    "                                     how = 'inner').dropna()\n",
    "print(df_main.shape)\n",
    "df_main.drop(['positive_COVID_cases', 'total_COVID_tests'], axis = 1, inplace=True)\n",
    "\n",
    "# Restrict to Cook county\n",
    "df_main = df_main.query(\"latitude > 41.2\").query(\"latitude < 42.10\").query(\"longitude > -88.3\").query(\"longitude < -87.3\")\n",
    "\n",
    "# add derived variables\n",
    "# Covid per capita\n",
    "df_main['tests_per_capita'] = df_main.total_tested/df_main.tot_pop\n",
    "df_main['positives_per_capita'] = df_main.total_positive/df_main.tot_pop\n",
    "df_main['infection_rate'] = df_main.total_positive/df_main.total_tested\n",
    "\n",
    "print(df_main.shape)\n",
    "df_main.dropna().info()"
   ]
  },
  {
   "cell_type": "code",
   "execution_count": 7,
   "metadata": {},
   "outputs": [
    {
     "data": {
      "text/html": [
       "<div>\n",
       "<style scoped>\n",
       "    .dataframe tbody tr th:only-of-type {\n",
       "        vertical-align: middle;\n",
       "    }\n",
       "\n",
       "    .dataframe tbody tr th {\n",
       "        vertical-align: top;\n",
       "    }\n",
       "\n",
       "    .dataframe thead th {\n",
       "        text-align: right;\n",
       "    }\n",
       "</style>\n",
       "<table border=\"1\" class=\"dataframe\">\n",
       "  <thead>\n",
       "    <tr style=\"text-align: right;\">\n",
       "      <th></th>\n",
       "      <th>il_zip</th>\n",
       "      <th>dialysis_centers</th>\n",
       "      <th>total_dialysis_stations</th>\n",
       "      <th>latitude</th>\n",
       "      <th>longitude</th>\n",
       "      <th>percent_below_poverty_line</th>\n",
       "      <th>tot_pop</th>\n",
       "      <th>percent_white</th>\n",
       "      <th>percent_black</th>\n",
       "      <th>percent_american_indian</th>\n",
       "      <th>...</th>\n",
       "      <th>perc_age_65_and_above</th>\n",
       "      <th>perc_age_75_and_above</th>\n",
       "      <th>median_age</th>\n",
       "      <th>males_per_hundred_females</th>\n",
       "      <th>perc_families_below_poverty</th>\n",
       "      <th>total_tested</th>\n",
       "      <th>total_positive</th>\n",
       "      <th>tests_per_capita</th>\n",
       "      <th>positives_per_capita</th>\n",
       "      <th>infection_rate</th>\n",
       "    </tr>\n",
       "  </thead>\n",
       "  <tbody>\n",
       "    <tr>\n",
       "      <td>2</td>\n",
       "      <td>60005</td>\n",
       "      <td>2</td>\n",
       "      <td>20</td>\n",
       "      <td>42.063852</td>\n",
       "      <td>-87.985566</td>\n",
       "      <td>7.9</td>\n",
       "      <td>29539</td>\n",
       "      <td>84.4</td>\n",
       "      <td>3.0</td>\n",
       "      <td>0.5</td>\n",
       "      <td>...</td>\n",
       "      <td>20.5</td>\n",
       "      <td>9.7</td>\n",
       "      <td>43.8</td>\n",
       "      <td>103.7</td>\n",
       "      <td>5.1</td>\n",
       "      <td>522</td>\n",
       "      <td>90</td>\n",
       "      <td>0.017672</td>\n",
       "      <td>0.003047</td>\n",
       "      <td>0.172414</td>\n",
       "    </tr>\n",
       "    <tr>\n",
       "      <td>3</td>\n",
       "      <td>60007</td>\n",
       "      <td>3</td>\n",
       "      <td>29</td>\n",
       "      <td>42.007574</td>\n",
       "      <td>-87.993059</td>\n",
       "      <td>3.8</td>\n",
       "      <td>33420</td>\n",
       "      <td>85.1</td>\n",
       "      <td>1.6</td>\n",
       "      <td>0.7</td>\n",
       "      <td>...</td>\n",
       "      <td>18.2</td>\n",
       "      <td>8.0</td>\n",
       "      <td>43.8</td>\n",
       "      <td>97.6</td>\n",
       "      <td>3.3</td>\n",
       "      <td>643</td>\n",
       "      <td>125</td>\n",
       "      <td>0.019240</td>\n",
       "      <td>0.003740</td>\n",
       "      <td>0.194401</td>\n",
       "    </tr>\n",
       "    <tr>\n",
       "      <td>4</td>\n",
       "      <td>60008</td>\n",
       "      <td>1</td>\n",
       "      <td>24</td>\n",
       "      <td>42.074453</td>\n",
       "      <td>-88.022667</td>\n",
       "      <td>6.3</td>\n",
       "      <td>21833</td>\n",
       "      <td>72.9</td>\n",
       "      <td>5.4</td>\n",
       "      <td>1.5</td>\n",
       "      <td>...</td>\n",
       "      <td>14.6</td>\n",
       "      <td>7.7</td>\n",
       "      <td>37.4</td>\n",
       "      <td>94.4</td>\n",
       "      <td>4.6</td>\n",
       "      <td>499</td>\n",
       "      <td>161</td>\n",
       "      <td>0.022855</td>\n",
       "      <td>0.007374</td>\n",
       "      <td>0.322645</td>\n",
       "    </tr>\n",
       "    <tr>\n",
       "      <td>10</td>\n",
       "      <td>60016</td>\n",
       "      <td>0</td>\n",
       "      <td>0</td>\n",
       "      <td>42.049732</td>\n",
       "      <td>-87.891676</td>\n",
       "      <td>9.2</td>\n",
       "      <td>59637</td>\n",
       "      <td>68.1</td>\n",
       "      <td>4.3</td>\n",
       "      <td>0.9</td>\n",
       "      <td>...</td>\n",
       "      <td>17.0</td>\n",
       "      <td>8.3</td>\n",
       "      <td>41.7</td>\n",
       "      <td>93.8</td>\n",
       "      <td>7.0</td>\n",
       "      <td>2086</td>\n",
       "      <td>707</td>\n",
       "      <td>0.034978</td>\n",
       "      <td>0.011855</td>\n",
       "      <td>0.338926</td>\n",
       "    </tr>\n",
       "    <tr>\n",
       "      <td>11</td>\n",
       "      <td>60018</td>\n",
       "      <td>1</td>\n",
       "      <td>13</td>\n",
       "      <td>41.997463</td>\n",
       "      <td>-87.896967</td>\n",
       "      <td>13.9</td>\n",
       "      <td>30386</td>\n",
       "      <td>78.3</td>\n",
       "      <td>2.9</td>\n",
       "      <td>0.4</td>\n",
       "      <td>...</td>\n",
       "      <td>15.6</td>\n",
       "      <td>7.8</td>\n",
       "      <td>38.3</td>\n",
       "      <td>104.2</td>\n",
       "      <td>11.9</td>\n",
       "      <td>956</td>\n",
       "      <td>306</td>\n",
       "      <td>0.031462</td>\n",
       "      <td>0.010070</td>\n",
       "      <td>0.320084</td>\n",
       "    </tr>\n",
       "  </tbody>\n",
       "</table>\n",
       "<p>5 rows × 26 columns</p>\n",
       "</div>"
      ],
      "text/plain": [
       "    il_zip  dialysis_centers  total_dialysis_stations   latitude  longitude  \\\n",
       "2    60005                 2                       20  42.063852 -87.985566   \n",
       "3    60007                 3                       29  42.007574 -87.993059   \n",
       "4    60008                 1                       24  42.074453 -88.022667   \n",
       "10   60016                 0                        0  42.049732 -87.891676   \n",
       "11   60018                 1                       13  41.997463 -87.896967   \n",
       "\n",
       "    percent_below_poverty_line  tot_pop  percent_white  percent_black  \\\n",
       "2                          7.9    29539           84.4            3.0   \n",
       "3                          3.8    33420           85.1            1.6   \n",
       "4                          6.3    21833           72.9            5.4   \n",
       "10                         9.2    59637           68.1            4.3   \n",
       "11                        13.9    30386           78.3            2.9   \n",
       "\n",
       "    percent_american_indian  ...  perc_age_65_and_above  \\\n",
       "2                       0.5  ...                   20.5   \n",
       "3                       0.7  ...                   18.2   \n",
       "4                       1.5  ...                   14.6   \n",
       "10                      0.9  ...                   17.0   \n",
       "11                      0.4  ...                   15.6   \n",
       "\n",
       "    perc_age_75_and_above  median_age  males_per_hundred_females  \\\n",
       "2                     9.7        43.8                      103.7   \n",
       "3                     8.0        43.8                       97.6   \n",
       "4                     7.7        37.4                       94.4   \n",
       "10                    8.3        41.7                       93.8   \n",
       "11                    7.8        38.3                      104.2   \n",
       "\n",
       "    perc_families_below_poverty  total_tested  total_positive  \\\n",
       "2                           5.1           522              90   \n",
       "3                           3.3           643             125   \n",
       "4                           4.6           499             161   \n",
       "10                          7.0          2086             707   \n",
       "11                         11.9           956             306   \n",
       "\n",
       "    tests_per_capita  positives_per_capita  infection_rate  \n",
       "2           0.017672              0.003047        0.172414  \n",
       "3           0.019240              0.003740        0.194401  \n",
       "4           0.022855              0.007374        0.322645  \n",
       "10          0.034978              0.011855        0.338926  \n",
       "11          0.031462              0.010070        0.320084  \n",
       "\n",
       "[5 rows x 26 columns]"
      ]
     },
     "execution_count": 7,
     "metadata": {},
     "output_type": "execute_result"
    }
   ],
   "source": [
    "df_main.head()"
   ]
  },
  {
   "cell_type": "code",
   "execution_count": 8,
   "metadata": {},
   "outputs": [],
   "source": [
    "df_main.to_csv('main_dataframe.csv')"
   ]
  },
  {
   "cell_type": "markdown",
   "metadata": {},
   "source": [
    "# Testing and Stats"
   ]
  },
  {
   "cell_type": "code",
   "execution_count": 9,
   "metadata": {},
   "outputs": [
    {
     "data": {
      "text/html": [
       "<div>\n",
       "<style scoped>\n",
       "    .dataframe tbody tr th:only-of-type {\n",
       "        vertical-align: middle;\n",
       "    }\n",
       "\n",
       "    .dataframe tbody tr th {\n",
       "        vertical-align: top;\n",
       "    }\n",
       "\n",
       "    .dataframe thead th {\n",
       "        text-align: right;\n",
       "    }\n",
       "</style>\n",
       "<table border=\"1\" class=\"dataframe\">\n",
       "  <thead>\n",
       "    <tr style=\"text-align: right;\">\n",
       "      <th></th>\n",
       "      <th>stat</th>\n",
       "      <th>pvalue</th>\n",
       "    </tr>\n",
       "  </thead>\n",
       "  <tbody>\n",
       "    <tr>\n",
       "      <td>il_zip</td>\n",
       "      <td>0.159496</td>\n",
       "      <td>2.11863e-05</td>\n",
       "    </tr>\n",
       "    <tr>\n",
       "      <td>dialysis_centers</td>\n",
       "      <td>0.270281</td>\n",
       "      <td>8.15228e-15</td>\n",
       "    </tr>\n",
       "    <tr>\n",
       "      <td>total_dialysis_stations</td>\n",
       "      <td>0.267067</td>\n",
       "      <td>1.80452e-14</td>\n",
       "    </tr>\n",
       "    <tr>\n",
       "      <td>latitude</td>\n",
       "      <td>0.0975853</td>\n",
       "      <td>0.0271881</td>\n",
       "    </tr>\n",
       "    <tr>\n",
       "      <td>longitude</td>\n",
       "      <td>0.0971331</td>\n",
       "      <td>0.0282844</td>\n",
       "    </tr>\n",
       "    <tr>\n",
       "      <td>percent_below_poverty_line</td>\n",
       "      <td>0.159266</td>\n",
       "      <td>2.18977e-05</td>\n",
       "    </tr>\n",
       "    <tr>\n",
       "      <td>tot_pop</td>\n",
       "      <td>0.114521</td>\n",
       "      <td>0.00541932</td>\n",
       "    </tr>\n",
       "    <tr>\n",
       "      <td>percent_white</td>\n",
       "      <td>0.142324</td>\n",
       "      <td>0.0002187</td>\n",
       "    </tr>\n",
       "    <tr>\n",
       "      <td>percent_black</td>\n",
       "      <td>0.257834</td>\n",
       "      <td>1.67113e-13</td>\n",
       "    </tr>\n",
       "    <tr>\n",
       "      <td>percent_american_indian</td>\n",
       "      <td>0.145706</td>\n",
       "      <td>0.000141076</td>\n",
       "    </tr>\n",
       "    <tr>\n",
       "      <td>percent_asian</td>\n",
       "      <td>0.177666</td>\n",
       "      <td>1.33425e-06</td>\n",
       "    </tr>\n",
       "    <tr>\n",
       "      <td>percent_native_hawaiian_pacific_islander</td>\n",
       "      <td>0.314772</td>\n",
       "      <td>4.75673e-20</td>\n",
       "    </tr>\n",
       "    <tr>\n",
       "      <td>percent_some_other_race</td>\n",
       "      <td>0.240552</td>\n",
       "      <td>8.6221e-12</td>\n",
       "    </tr>\n",
       "    <tr>\n",
       "      <td>median_household_income</td>\n",
       "      <td>0.0695208</td>\n",
       "      <td>0.223282</td>\n",
       "    </tr>\n",
       "    <tr>\n",
       "      <td>percent_hispanic</td>\n",
       "      <td>0.198246</td>\n",
       "      <td>4.02482e-08</td>\n",
       "    </tr>\n",
       "    <tr>\n",
       "      <td>percent_NOT_hisp_or_latino_any_race</td>\n",
       "      <td>0.198246</td>\n",
       "      <td>4.02482e-08</td>\n",
       "    </tr>\n",
       "    <tr>\n",
       "      <td>perc_age_65_and_above</td>\n",
       "      <td>0.0624703</td>\n",
       "      <td>0.339248</td>\n",
       "    </tr>\n",
       "    <tr>\n",
       "      <td>perc_age_75_and_above</td>\n",
       "      <td>0.0727904</td>\n",
       "      <td>0.181163</td>\n",
       "    </tr>\n",
       "    <tr>\n",
       "      <td>median_age</td>\n",
       "      <td>0.0487432</td>\n",
       "      <td>0.674519</td>\n",
       "    </tr>\n",
       "    <tr>\n",
       "      <td>males_per_hundred_females</td>\n",
       "      <td>0.0515246</td>\n",
       "      <td>0.594847</td>\n",
       "    </tr>\n",
       "    <tr>\n",
       "      <td>perc_families_below_poverty</td>\n",
       "      <td>0.16625</td>\n",
       "      <td>7.85523e-06</td>\n",
       "    </tr>\n",
       "    <tr>\n",
       "      <td>total_tested</td>\n",
       "      <td>0.156501</td>\n",
       "      <td>3.24599e-05</td>\n",
       "    </tr>\n",
       "    <tr>\n",
       "      <td>total_positive</td>\n",
       "      <td>0.21091</td>\n",
       "      <td>3.8333e-09</td>\n",
       "    </tr>\n",
       "    <tr>\n",
       "      <td>tests_per_capita</td>\n",
       "      <td>0.0638264</td>\n",
       "      <td>0.314103</td>\n",
       "    </tr>\n",
       "    <tr>\n",
       "      <td>positives_per_capita</td>\n",
       "      <td>0.0995478</td>\n",
       "      <td>0.0228537</td>\n",
       "    </tr>\n",
       "    <tr>\n",
       "      <td>infection_rate</td>\n",
       "      <td>0.0844312</td>\n",
       "      <td>0.0796429</td>\n",
       "    </tr>\n",
       "  </tbody>\n",
       "</table>\n",
       "</div>"
      ],
      "text/plain": [
       "                                               stat       pvalue\n",
       "il_zip                                     0.159496  2.11863e-05\n",
       "dialysis_centers                           0.270281  8.15228e-15\n",
       "total_dialysis_stations                    0.267067  1.80452e-14\n",
       "latitude                                  0.0975853    0.0271881\n",
       "longitude                                 0.0971331    0.0282844\n",
       "percent_below_poverty_line                 0.159266  2.18977e-05\n",
       "tot_pop                                    0.114521   0.00541932\n",
       "percent_white                              0.142324    0.0002187\n",
       "percent_black                              0.257834  1.67113e-13\n",
       "percent_american_indian                    0.145706  0.000141076\n",
       "percent_asian                              0.177666  1.33425e-06\n",
       "percent_native_hawaiian_pacific_islander   0.314772  4.75673e-20\n",
       "percent_some_other_race                    0.240552   8.6221e-12\n",
       "median_household_income                   0.0695208     0.223282\n",
       "percent_hispanic                           0.198246  4.02482e-08\n",
       "percent_NOT_hisp_or_latino_any_race        0.198246  4.02482e-08\n",
       "perc_age_65_and_above                     0.0624703     0.339248\n",
       "perc_age_75_and_above                     0.0727904     0.181163\n",
       "median_age                                0.0487432     0.674519\n",
       "males_per_hundred_females                 0.0515246     0.594847\n",
       "perc_families_below_poverty                 0.16625  7.85523e-06\n",
       "total_tested                               0.156501  3.24599e-05\n",
       "total_positive                              0.21091   3.8333e-09\n",
       "tests_per_capita                          0.0638264     0.314103\n",
       "positives_per_capita                      0.0995478    0.0228537\n",
       "infection_rate                            0.0844312    0.0796429"
      ]
     },
     "execution_count": 9,
     "metadata": {},
     "output_type": "execute_result"
    }
   ],
   "source": [
    "# Normality test\n",
    "\n",
    "ks_stat = pd.DataFrame(index = df_main.columns, columns = ['stat','pvalue'])\n",
    "ks_stat\n",
    "for col in df_main.columns:\n",
    "    x = (df_main[col] - df_main[col].mean())/df_main[col].std()\n",
    "    ks_stat.loc[col,'stat'] = stats.kstest(x, 'norm').statistic\n",
    "    ks_stat.loc[col,'pvalue'] = stats.kstest(x, 'norm').pvalue\n",
    "ks_stat"
   ]
  },
  {
   "cell_type": "code",
   "execution_count": 10,
   "metadata": {},
   "outputs": [
    {
     "data": {
      "text/plain": [
       "<matplotlib.axes._subplots.AxesSubplot at 0x12800d150>"
      ]
     },
     "execution_count": 10,
     "metadata": {},
     "output_type": "execute_result"
    },
    {
     "data": {
      "image/png": "[encoded data removed]",
      "text/plain": [
       "<Figure size 432x288 with 1 Axes>"
      ]
     },
     "metadata": {
      "needs_background": "light"
     },
     "output_type": "display_data"
    }
   ],
   "source": [
    "df_main.males_per_hundred_females.plot.hist(bins = 30)"
   ]
  },
  {
   "cell_type": "markdown",
   "metadata": {},
   "source": [
    "# Correlation"
   ]
  },
  {
   "cell_type": "code",
   "execution_count": 11,
   "metadata": {},
   "outputs": [
    {
     "data": {
      "text/plain": [
       "Text(0.5, 0.98, 'Spearmans')"
      ]
     },
     "execution_count": 11,
     "metadata": {},
     "output_type": "execute_result"
    },
    {
     "data": {
      "image/png": "[encoded data removed]",
      "text/plain": [
       "<Figure size 1728x576 with 4 Axes>"
      ]
     },
     "metadata": {
      "needs_background": "light"
     },
     "output_type": "display_data"
    }
   ],
   "source": [
    "columns_of_interest = ['positives_per_capita','tests_per_capita', 'positive_rate', 'stations_per_center',\n",
    "                       'stations_per_center','tot_pop']\n",
    "\n",
    "pv = 0.001\n",
    "df_spearman = pd.DataFrame(index = df_main.columns, columns = df_main.columns)\n",
    "df_pearson = pd.DataFrame(index = df_main.columns, columns = df_main.columns)\n",
    "for i,col in enumerate(df_main.columns):\n",
    "    if col == 'il_zip':\n",
    "        continue\n",
    "    \n",
    "    for j,row in enumerate(df_main.columns):\n",
    "        \n",
    "        if j < i:\n",
    "            continue\n",
    "    \n",
    "        if row == 'il_zip':\n",
    "            continue\n",
    "        else:\n",
    "            x = df_main[row]\n",
    "            y = df_main[col]\n",
    "            if scipy.stats.spearmanr(x,y).pvalue < pv:\n",
    "                df_spearman.loc[row,col] = scipy.stats.spearmanr(x,y).correlation\n",
    "                df_spearman.loc[col,row] = scipy.stats.spearmanr(y,x).correlation\n",
    "\n",
    "            else:\n",
    "                 df_spearman.loc[row,col] = 0  \n",
    "                 df_spearman.loc[col,row] = 0 \n",
    "                    \n",
    "            if scipy.stats.pearsonr(x,y)[1] < pv:\n",
    "                df_pearson.loc[row,col] = scipy.stats.pearsonr(x,y)[0]\n",
    "                df_pearson.loc[col,row] = scipy.stats.pearsonr(y,x)[0]\n",
    "            else:\n",
    "                \n",
    "                    \n",
    "                df_pearson.loc[col,row] = 0\n",
    "                df_pearson.loc[row,col] = 0\n",
    "\n",
    "df_spearman = df_spearman.drop('il_zip', axis =0).drop('il_zip', axis =1).astype(float)\n",
    "plt.figure(figsize = (24,8))\n",
    "\n",
    "plt.subplot(1,2,1)\n",
    "sns.heatmap(np.abs(df_spearman), vmax=1, vmin = 0, square=True, cmap = 'binary')\n",
    "plt.title(f'Correlation magnitude (p < {pv})', fontsize = 20)\n",
    "\n",
    "plt.subplot(1,2,2)\n",
    "sns.heatmap(df_spearman, vmax=1, vmin = -1, square=True, cmap = 'RdBu')\n",
    "plt.title(f'Correlation coefficient (p < {pv})', fontsize = 20)\n",
    "plt.suptitle('Spearmans', fontsize = 30)"
   ]
  },
  {
   "cell_type": "code",
   "execution_count": 12,
   "metadata": {},
   "outputs": [
    {
     "name": "stdout",
     "output_type": "stream",
     "text": [
      "Pearson's Correlation at \"0.001\"\n"
     ]
    },
    {
     "data": {
      "text/html": [
       "<div>\n",
       "<style scoped>\n",
       "    .dataframe tbody tr th:only-of-type {\n",
       "        vertical-align: middle;\n",
       "    }\n",
       "\n",
       "    .dataframe tbody tr th {\n",
       "        vertical-align: top;\n",
       "    }\n",
       "\n",
       "    .dataframe thead th {\n",
       "        text-align: right;\n",
       "    }\n",
       "</style>\n",
       "<table border=\"1\" class=\"dataframe\">\n",
       "  <thead>\n",
       "    <tr style=\"text-align: right;\">\n",
       "      <th></th>\n",
       "      <th>infection_rate</th>\n",
       "      <th>positives_per_capita</th>\n",
       "    </tr>\n",
       "  </thead>\n",
       "  <tbody>\n",
       "    <tr>\n",
       "      <td>total_dialysis_stations</td>\n",
       "      <td>0.244781</td>\n",
       "      <td>0.274334</td>\n",
       "    </tr>\n",
       "    <tr>\n",
       "      <td>latitude</td>\n",
       "      <td>0.239938</td>\n",
       "      <td>0</td>\n",
       "    </tr>\n",
       "    <tr>\n",
       "      <td>longitude</td>\n",
       "      <td>0</td>\n",
       "      <td>0.45362</td>\n",
       "    </tr>\n",
       "    <tr>\n",
       "      <td>percent_below_poverty_line</td>\n",
       "      <td>0.402686</td>\n",
       "      <td>0.597752</td>\n",
       "    </tr>\n",
       "    <tr>\n",
       "      <td>tot_pop</td>\n",
       "      <td>0.444282</td>\n",
       "      <td>0.311709</td>\n",
       "    </tr>\n",
       "    <tr>\n",
       "      <td>percent_black</td>\n",
       "      <td>0</td>\n",
       "      <td>0.464276</td>\n",
       "    </tr>\n",
       "    <tr>\n",
       "      <td>percent_some_other_race</td>\n",
       "      <td>0.687605</td>\n",
       "      <td>0.537952</td>\n",
       "    </tr>\n",
       "    <tr>\n",
       "      <td>percent_hispanic</td>\n",
       "      <td>0.667929</td>\n",
       "      <td>0.526537</td>\n",
       "    </tr>\n",
       "    <tr>\n",
       "      <td>perc_families_below_poverty</td>\n",
       "      <td>0.454189</td>\n",
       "      <td>0.614564</td>\n",
       "    </tr>\n",
       "  </tbody>\n",
       "</table>\n",
       "</div>"
      ],
      "text/plain": [
       "                            infection_rate positives_per_capita\n",
       "total_dialysis_stations           0.244781             0.274334\n",
       "latitude                          0.239938                    0\n",
       "longitude                                0              0.45362\n",
       "percent_below_poverty_line        0.402686             0.597752\n",
       "tot_pop                           0.444282             0.311709\n",
       "percent_black                            0             0.464276\n",
       "percent_some_other_race           0.687605             0.537952\n",
       "percent_hispanic                  0.667929             0.526537\n",
       "perc_families_below_poverty       0.454189             0.614564"
      ]
     },
     "execution_count": 12,
     "metadata": {},
     "output_type": "execute_result"
    }
   ],
   "source": [
    "print(f'Pearson\\'s Correlation at \"{pv}\"')\n",
    "df = df_pearson[['infection_rate', \n",
    "             'positives_per_capita']].drop(['infection_rate', \n",
    "                                            'positives_per_capita',\n",
    "                                            'total_tested',\n",
    "                                            'total_positive',\n",
    "                                            'tests_per_capita'])\n",
    "df.query(\"infection_rate > 0 | positives_per_capita>0\")"
   ]
  },
  {
   "cell_type": "code",
   "execution_count": 13,
   "metadata": {},
   "outputs": [
    {
     "name": "stdout",
     "output_type": "stream",
     "text": [
      "Spearman Rank Correlation at \"0.001\"\n",
      "['dialysis_centers', 'total_dialysis_stations', 'percent_below_poverty_line', 'percent_black', 'percent_some_other_race', 'percent_hispanic', 'perc_families_below_poverty']\n"
     ]
    },
    {
     "data": {
      "text/html": [
       "<div>\n",
       "<style scoped>\n",
       "    .dataframe tbody tr th:only-of-type {\n",
       "        vertical-align: middle;\n",
       "    }\n",
       "\n",
       "    .dataframe tbody tr th {\n",
       "        vertical-align: top;\n",
       "    }\n",
       "\n",
       "    .dataframe thead th {\n",
       "        text-align: right;\n",
       "    }\n",
       "</style>\n",
       "<table border=\"1\" class=\"dataframe\">\n",
       "  <thead>\n",
       "    <tr style=\"text-align: right;\">\n",
       "      <th></th>\n",
       "      <th>infection_rate</th>\n",
       "      <th>positives_per_capita</th>\n",
       "    </tr>\n",
       "  </thead>\n",
       "  <tbody>\n",
       "    <tr>\n",
       "      <td>dialysis_centers</td>\n",
       "      <td>0.223950</td>\n",
       "      <td>0.000000</td>\n",
       "    </tr>\n",
       "    <tr>\n",
       "      <td>total_dialysis_stations</td>\n",
       "      <td>0.273329</td>\n",
       "      <td>0.257499</td>\n",
       "    </tr>\n",
       "    <tr>\n",
       "      <td>percent_below_poverty_line</td>\n",
       "      <td>0.476456</td>\n",
       "      <td>0.646804</td>\n",
       "    </tr>\n",
       "    <tr>\n",
       "      <td>percent_black</td>\n",
       "      <td>0.252365</td>\n",
       "      <td>0.486694</td>\n",
       "    </tr>\n",
       "    <tr>\n",
       "      <td>percent_some_other_race</td>\n",
       "      <td>0.539379</td>\n",
       "      <td>0.385168</td>\n",
       "    </tr>\n",
       "    <tr>\n",
       "      <td>percent_hispanic</td>\n",
       "      <td>0.484513</td>\n",
       "      <td>0.329225</td>\n",
       "    </tr>\n",
       "    <tr>\n",
       "      <td>perc_families_below_poverty</td>\n",
       "      <td>0.552510</td>\n",
       "      <td>0.671398</td>\n",
       "    </tr>\n",
       "  </tbody>\n",
       "</table>\n",
       "</div>"
      ],
      "text/plain": [
       "                             infection_rate  positives_per_capita\n",
       "dialysis_centers                   0.223950              0.000000\n",
       "total_dialysis_stations            0.273329              0.257499\n",
       "percent_below_poverty_line         0.476456              0.646804\n",
       "percent_black                      0.252365              0.486694\n",
       "percent_some_other_race            0.539379              0.385168\n",
       "percent_hispanic                   0.484513              0.329225\n",
       "perc_families_below_poverty        0.552510              0.671398"
      ]
     },
     "execution_count": 13,
     "metadata": {},
     "output_type": "execute_result"
    }
   ],
   "source": [
    "print(f'Spearman Rank Correlation at \"{pv}\"')\n",
    "df = df_spearman[['infection_rate', \n",
    "             'positives_per_capita']].drop(['infection_rate', \n",
    "                                            'positives_per_capita',\n",
    "                                            'total_tested',\n",
    "                                            'total_positive',\n",
    "                                            'tests_per_capita'])\n",
    "df_significant = df.query(\"infection_rate > 0 | positives_per_capita>0\")\n",
    "df_significant = df_significant.drop(['longitude','tot_pop'])\n",
    "significant_factors = list(df_significant.index)\n",
    "print(significant_factors)\n",
    "df_significant"
   ]
  },
  {
   "cell_type": "markdown",
   "metadata": {},
   "source": [
    "# Stratified Analysis"
   ]
  },
  {
   "cell_type": "code",
   "execution_count": 14,
   "metadata": {},
   "outputs": [],
   "source": [
    "def get_quantile(x, quantiles, verbose = False):\n",
    "    x_quantiles = np.zeros_like(x)\n",
    "    \n",
    "    if verbose:\n",
    "        print()\n",
    "        print(\"The quantiles are:\",quantiles)\n",
    "        print(\"The number of values will be:\", len(quantiles)+1)\n",
    "        print()\n",
    "\n",
    "    # Get lowest qualtile\n",
    "    if verbose:\n",
    "        print(f\"set all values below {quantiles[0]} as 1\")\n",
    "    x_quantiles[np.where(x<=quantiles[0])] = 1\n",
    "\n",
    "    \n",
    "    # get middle quatiles\n",
    "    for q in range(len(quantiles)-1):\n",
    "        if verbose:\n",
    "            print()\n",
    "            print(f\"{q} of {len(quantiles)}\")\n",
    "            print(f\"set all values between {quantiles[q]} and {quantiles[q+1]} as {q+2}\")\n",
    "        x_quantiles[np.where(x>quantiles[q])] = q+2\n",
    "\n",
    "    # get highest qualtiles\n",
    "    if verbose:\n",
    "        print(f\"set all values above {quantiles[-1]} as {len(quantiles)+1}\")\n",
    "    x_quantiles[np.where(x>quantiles[-1])] = len(quantiles)+1\n",
    "    \n",
    "    return x_quantiles"
   ]
  },
  {
   "cell_type": "code",
   "execution_count": 15,
   "metadata": {},
   "outputs": [],
   "source": [
    "def stratify(df, strat = [0.5]):\n",
    "    \n",
    "    df_strat = pd.DataFrame(df).reset_index(drop=True)\n",
    "    L = len(df_strat)\n",
    "    print(f\"Length is {L}, and columns are {df_strat.columns}\")\n",
    "    \n",
    "    for col in df_strat.columns:\n",
    "        print(\"columns is:\", col)\n",
    "        strat_col ='strat_' + col\n",
    "        df_strat[strat_col] = 0\n",
    "        \n",
    "        quantiles = df_strat[col].quantile(strat).values \n",
    "        print(quantiles)\n",
    "        for i,v in enumerate(quantiles):\n",
    "            print(i,v)\n",
    "            df_strat[strat_col] = df_strat[col].apply(lambda x: i+1 if x >= v else i)\n",
    "\n",
    "    return df_strat"
   ]
  },
  {
   "cell_type": "code",
   "execution_count": 16,
   "metadata": {},
   "outputs": [],
   "source": [
    "quantile_array = [0.25,0.5,0.75]\n",
    "stratify_groups = significant_factors\n",
    "\n",
    "for group in stratify_groups:\n",
    "    strat = 'strat_' + group\n",
    "    quantiles = df_main[group].quantile(quantile_array).values \n",
    "    x = df_main[group].values\n",
    "    y = get_quantile(x, quantiles, verbose = False)\n",
    "    df_main[strat] = y"
   ]
  },
  {
   "cell_type": "code",
   "execution_count": 17,
   "metadata": {},
   "outputs": [
    {
     "data": {
      "text/plain": [
       "Index(['il_zip', 'dialysis_centers', 'total_dialysis_stations', 'latitude',\n",
       "       'longitude', 'percent_below_poverty_line', 'tot_pop', 'percent_white',\n",
       "       'percent_black', 'percent_american_indian', 'percent_asian',\n",
       "       'percent_native_hawaiian_pacific_islander', 'percent_some_other_race',\n",
       "       'median_household_income', 'percent_hispanic',\n",
       "       'percent_NOT_hisp_or_latino_any_race', 'perc_age_65_and_above',\n",
       "       'perc_age_75_and_above', 'median_age', 'males_per_hundred_females',\n",
       "       'perc_families_below_poverty', 'total_tested', 'total_positive',\n",
       "       'tests_per_capita', 'positives_per_capita', 'infection_rate',\n",
       "       'strat_dialysis_centers', 'strat_total_dialysis_stations',\n",
       "       'strat_percent_below_poverty_line', 'strat_percent_black',\n",
       "       'strat_percent_some_other_race', 'strat_percent_hispanic',\n",
       "       'strat_perc_families_below_poverty'],\n",
       "      dtype='object')"
      ]
     },
     "execution_count": 17,
     "metadata": {},
     "output_type": "execute_result"
    }
   ],
   "source": [
    "df_main.columns"
   ]
  },
  {
   "cell_type": "code",
   "execution_count": 18,
   "metadata": {},
   "outputs": [
    {
     "data": {
      "text/plain": [
       "['dialysis_centers',\n",
       " 'total_dialysis_stations',\n",
       " 'percent_below_poverty_line',\n",
       " 'percent_black',\n",
       " 'percent_some_other_race',\n",
       " 'percent_hispanic',\n",
       " 'perc_families_below_poverty']"
      ]
     },
     "execution_count": 18,
     "metadata": {},
     "output_type": "execute_result"
    }
   ],
   "source": [
    "stratify_groups"
   ]
  },
  {
   "cell_type": "code",
   "execution_count": 19,
   "metadata": {},
   "outputs": [
    {
     "name": "stdout",
     "output_type": "stream",
     "text": [
      "[6.3, 11.55, 22.65]\n",
      "1.0    59\n",
      "4.0    56\n",
      "3.0    55\n",
      "2.0    52\n",
      "Name: strat_percent_hispanic, dtype: int64\n"
     ]
    },
    {
     "data": {
      "text/html": [
       "<div>\n",
       "<style scoped>\n",
       "    .dataframe tbody tr th:only-of-type {\n",
       "        vertical-align: middle;\n",
       "    }\n",
       "\n",
       "    .dataframe tbody tr th {\n",
       "        vertical-align: top;\n",
       "    }\n",
       "\n",
       "    .dataframe thead th {\n",
       "        text-align: right;\n",
       "    }\n",
       "</style>\n",
       "<table border=\"1\" class=\"dataframe\">\n",
       "  <thead>\n",
       "    <tr style=\"text-align: right;\">\n",
       "      <th></th>\n",
       "      <th>percent_hispanic</th>\n",
       "      <th>strat_percent_hispanic</th>\n",
       "    </tr>\n",
       "  </thead>\n",
       "  <tbody>\n",
       "    <tr>\n",
       "      <td>111</td>\n",
       "      <td>22.5</td>\n",
       "      <td>3.0</td>\n",
       "    </tr>\n",
       "    <tr>\n",
       "      <td>102</td>\n",
       "      <td>22.7</td>\n",
       "      <td>4.0</td>\n",
       "    </tr>\n",
       "    <tr>\n",
       "      <td>297</td>\n",
       "      <td>22.7</td>\n",
       "      <td>4.0</td>\n",
       "    </tr>\n",
       "    <tr>\n",
       "      <td>169</td>\n",
       "      <td>22.7</td>\n",
       "      <td>4.0</td>\n",
       "    </tr>\n",
       "    <tr>\n",
       "      <td>204</td>\n",
       "      <td>22.9</td>\n",
       "      <td>4.0</td>\n",
       "    </tr>\n",
       "    <tr>\n",
       "      <td>117</td>\n",
       "      <td>23.5</td>\n",
       "      <td>4.0</td>\n",
       "    </tr>\n",
       "    <tr>\n",
       "      <td>108</td>\n",
       "      <td>24.7</td>\n",
       "      <td>4.0</td>\n",
       "    </tr>\n",
       "    <tr>\n",
       "      <td>4</td>\n",
       "      <td>24.9</td>\n",
       "      <td>4.0</td>\n",
       "    </tr>\n",
       "    <tr>\n",
       "      <td>137</td>\n",
       "      <td>26.5</td>\n",
       "      <td>4.0</td>\n",
       "    </tr>\n",
       "    <tr>\n",
       "      <td>92</td>\n",
       "      <td>27.3</td>\n",
       "      <td>4.0</td>\n",
       "    </tr>\n",
       "  </tbody>\n",
       "</table>\n",
       "</div>"
      ],
      "text/plain": [
       "     percent_hispanic  strat_percent_hispanic\n",
       "111              22.5                     3.0\n",
       "102              22.7                     4.0\n",
       "297              22.7                     4.0\n",
       "169              22.7                     4.0\n",
       "204              22.9                     4.0\n",
       "117              23.5                     4.0\n",
       "108              24.7                     4.0\n",
       "4                24.9                     4.0\n",
       "137              26.5                     4.0\n",
       "92               27.3                     4.0"
      ]
     },
     "execution_count": 19,
     "metadata": {},
     "output_type": "execute_result"
    }
   ],
   "source": [
    "# Test\n",
    "print(sorted(list(df_main.percent_hispanic.quantile(quantile_array))))\n",
    "print(df_main.strat_percent_hispanic.value_counts())\n",
    "df_main[['percent_hispanic',\n",
    "         'strat_percent_hispanic']].sort_values(by = 'percent_hispanic').head(175).tail(10)"
   ]
  },
  {
   "cell_type": "code",
   "execution_count": 20,
   "metadata": {},
   "outputs": [
    {
     "name": "stdout",
     "output_type": "stream",
     "text": [
      "                                                      sum_sq     df  \\\n",
      "C(strat_percent_below_poverty_line)                 0.000482    3.0   \n",
      "C(strat_percent_black)                              0.000123    3.0   \n",
      "C(strat_percent_hispanic)                           0.000251    3.0   \n",
      "C(strat_percent_black):C(strat_percent_below_po...  0.000279    9.0   \n",
      "C(strat_percent_hispanic):C(strat_percent_below...  0.000062    9.0   \n",
      "Residual                                            0.001599  194.0   \n",
      "\n",
      "                                                            F        PR(>F)  \n",
      "C(strat_percent_below_poverty_line)                 19.505253  4.285094e-11  \n",
      "C(strat_percent_black)                               4.973569  2.395337e-03  \n",
      "C(strat_percent_hispanic)                           10.163385  3.006748e-06  \n",
      "C(strat_percent_black):C(strat_percent_below_po...   3.759292  2.208648e-04  \n",
      "C(strat_percent_hispanic):C(strat_percent_below...   0.836424  5.833882e-01  \n",
      "Residual                                                  NaN           NaN  \n"
     ]
    }
   ],
   "source": [
    "formula = 'positives_per_capita ~ C(strat_percent_below_poverty_line) + \\\n",
    "C(strat_percent_black) + C(strat_percent_hispanic) + \\\n",
    "C(strat_percent_black):C(strat_percent_below_poverty_line) + \\\n",
    "C(strat_percent_hispanic):C(strat_percent_below_poverty_line)'\n",
    "poverty_lm = ols(formula,data=df_main).fit()\n",
    "table = anova_lm(poverty_lm, typ=2) # Type 2 ANOVA DataFrame\n",
    "print(table)"
   ]
  },
  {
   "cell_type": "code",
   "execution_count": 21,
   "metadata": {},
   "outputs": [
    {
     "name": "stdout",
     "output_type": "stream",
     "text": [
      "dialysis_centers\n",
      "total_dialysis_stations\n",
      "percent_below_poverty_line\n",
      "percent_black\n",
      "percent_some_other_race\n",
      "percent_hispanic\n",
      "perc_families_below_poverty\n"
     ]
    },
    {
     "data": {
      "image/png": "[encoded data removed]",
      "text/plain": [
       "<Figure size 432x288 with 1 Axes>"
      ]
     },
     "metadata": {
      "needs_background": "light"
     },
     "output_type": "display_data"
    },
    {
     "data": {
      "image/png": "[encoded data removed]",
      "text/plain": [
       "<Figure size 432x288 with 1 Axes>"
      ]
     },
     "metadata": {
      "needs_background": "light"
     },
     "output_type": "display_data"
    },
    {
     "data": {
      "image/png": "[encoded data removed]",
      "text/plain": [
       "<Figure size 432x288 with 1 Axes>"
      ]
     },
     "metadata": {
      "needs_background": "light"
     },
     "output_type": "display_data"
    },
    {
     "data": {
      "image/png": "[encoded data removed]",
      "text/plain": [
       "<Figure size 432x288 with 1 Axes>"
      ]
     },
     "metadata": {
      "needs_background": "light"
     },
     "output_type": "display_data"
    },
    {
     "data": {
      "image/png": "[encoded data removed]",
      "text/plain": [
       "<Figure size 432x288 with 1 Axes>"
      ]
     },
     "metadata": {
      "needs_background": "light"
     },
     "output_type": "display_data"
    },
    {
     "data": {
      "image/png": "[encoded data removed]",
      "text/plain": [
       "<Figure size 432x288 with 1 Axes>"
      ]
     },
     "metadata": {
      "needs_background": "light"
     },
     "output_type": "display_data"
    },
    {
     "data": {
      "image/png": "[encoded data removed]",
      "text/plain": [
       "<Figure size 432x288 with 1 Axes>"
      ]
     },
     "metadata": {
      "needs_background": "light"
     },
     "output_type": "display_data"
    }
   ],
   "source": [
    "for group in stratify_groups:\n",
    "    print(group)\n",
    "    plt.figure()\n",
    "    g = sns.boxplot(y = 'positives_per_capita', \n",
    "                    x = 'strat_' + group,\n",
    "                   data = df_main)\n",
    "    plt.title(group)\n",
    "\n"
   ]
  },
  {
   "cell_type": "code",
   "execution_count": 22,
   "metadata": {},
   "outputs": [
    {
     "name": "stdout",
     "output_type": "stream",
     "text": [
      "                                                      sum_sq     df  \\\n",
      "C(strat_percent_below_poverty_line)                 0.087702    3.0   \n",
      "C(strat_percent_black)                              0.000890    3.0   \n",
      "C(strat_percent_hispanic)                           0.216575    3.0   \n",
      "C(strat_percent_black):C(strat_percent_below_po...  0.110805    9.0   \n",
      "C(strat_percent_hispanic):C(strat_percent_below...  0.032080    9.0   \n",
      "Residual                                            0.607844  194.0   \n",
      "\n",
      "                                                            F        PR(>F)  \n",
      "C(strat_percent_below_poverty_line)                  9.330378  8.603738e-06  \n",
      "C(strat_percent_black)                               0.094638  9.629288e-01  \n",
      "C(strat_percent_hispanic)                           23.040742  8.410514e-13  \n",
      "C(strat_percent_black):C(strat_percent_below_po...   3.929405  1.303019e-04  \n",
      "C(strat_percent_hispanic):C(strat_percent_below...   1.137628  3.380032e-01  \n",
      "Residual                                                  NaN           NaN  \n"
     ]
    }
   ],
   "source": [
    "formula = 'infection_rate ~ C(strat_percent_below_poverty_line) + \\\n",
    "C(strat_percent_black) + C(strat_percent_hispanic) + \\\n",
    "C(strat_percent_black):C(strat_percent_below_poverty_line) + \\\n",
    "C(strat_percent_hispanic):C(strat_percent_below_poverty_line)'\n",
    "poverty_lm = ols(formula,data=df_main).fit()\n",
    "table = anova_lm(poverty_lm, typ=2) # Type 2 ANOVA DataFrame\n",
    "print(table)"
   ]
  },
  {
   "cell_type": "code",
   "execution_count": 23,
   "metadata": {},
   "outputs": [
    {
     "name": "stdout",
     "output_type": "stream",
     "text": [
      "dialysis_centers\n",
      "total_dialysis_stations\n",
      "percent_below_poverty_line\n",
      "percent_black\n",
      "percent_some_other_race\n",
      "percent_hispanic\n",
      "perc_families_below_poverty\n"
     ]
    },
    {
     "data": {
      "image/png": "[encoded data removed]",
      "text/plain": [
       "<Figure size 432x288 with 1 Axes>"
      ]
     },
     "metadata": {
      "needs_background": "light"
     },
     "output_type": "display_data"
    },
    {
     "data": {
      "image/png": "[encoded data removed]",
      "text/plain": [
       "<Figure size 432x288 with 1 Axes>"
      ]
     },
     "metadata": {
      "needs_background": "light"
     },
     "output_type": "display_data"
    },
    {
     "data": {
      "image/png": "[encoded data removed]",
      "text/plain": [
       "<Figure size 432x288 with 1 Axes>"
      ]
     },
     "metadata": {
      "needs_background": "light"
     },
     "output_type": "display_data"
    },
    {
     "data": {
      "image/png": "[encoded data removed]",
      "text/plain": [
       "<Figure size 432x288 with 1 Axes>"
      ]
     },
     "metadata": {
      "needs_background": "light"
     },
     "output_type": "display_data"
    },
    {
     "data": {
      "image/png": "[encoded data removed]",
      "text/plain": [
       "<Figure size 432x288 with 1 Axes>"
      ]
     },
     "metadata": {
      "needs_background": "light"
     },
     "output_type": "display_data"
    },
    {
     "data": {
      "image/png": "[encoded data removed]",
      "text/plain": [
       "<Figure size 432x288 with 1 Axes>"
      ]
     },
     "metadata": {
      "needs_background": "light"
     },
     "output_type": "display_data"
    },
    {
     "data": {
      "image/png": "[encoded data removed]",
      "text/plain": [
       "<Figure size 432x288 with 1 Axes>"
      ]
     },
     "metadata": {
      "needs_background": "light"
     },
     "output_type": "display_data"
    }
   ],
   "source": [
    "for group in stratify_groups:\n",
    "    print(group)\n",
    "    plt.figure()\n",
    "    g = sns.boxplot(y = 'infection_rate', \n",
    "                    x = 'strat_' + group,\n",
    "                   data = df_main)\n",
    "    plt.title(group)\n"
   ]
  },
  {
   "cell_type": "code",
   "execution_count": 24,
   "metadata": {},
   "outputs": [
    {
     "name": "stdout",
     "output_type": "stream",
     "text": [
      "0.25     0.00\n",
      "0.50     0.00\n",
      "0.75    21.75\n",
      "Name: total_dialysis_stations, dtype: float64\n"
     ]
    },
    {
     "data": {
      "text/html": [
       "<div>\n",
       "<style scoped>\n",
       "    .dataframe tbody tr th:only-of-type {\n",
       "        vertical-align: middle;\n",
       "    }\n",
       "\n",
       "    .dataframe tbody tr th {\n",
       "        vertical-align: top;\n",
       "    }\n",
       "\n",
       "    .dataframe thead th {\n",
       "        text-align: right;\n",
       "    }\n",
       "</style>\n",
       "<table border=\"1\" class=\"dataframe\">\n",
       "  <thead>\n",
       "    <tr style=\"text-align: right;\">\n",
       "      <th></th>\n",
       "      <th>total_dialysis_stations</th>\n",
       "      <th>strat_total_dialysis_stations</th>\n",
       "    </tr>\n",
       "  </thead>\n",
       "  <tbody>\n",
       "    <tr>\n",
       "      <td>103</td>\n",
       "      <td>0</td>\n",
       "      <td>1</td>\n",
       "    </tr>\n",
       "    <tr>\n",
       "      <td>120</td>\n",
       "      <td>0</td>\n",
       "      <td>1</td>\n",
       "    </tr>\n",
       "    <tr>\n",
       "      <td>116</td>\n",
       "      <td>0</td>\n",
       "      <td>1</td>\n",
       "    </tr>\n",
       "    <tr>\n",
       "      <td>84</td>\n",
       "      <td>1</td>\n",
       "      <td>3</td>\n",
       "    </tr>\n",
       "    <tr>\n",
       "      <td>149</td>\n",
       "      <td>1</td>\n",
       "      <td>3</td>\n",
       "    </tr>\n",
       "  </tbody>\n",
       "</table>\n",
       "</div>"
      ],
      "text/plain": [
       "     total_dialysis_stations  strat_total_dialysis_stations\n",
       "103                        0                              1\n",
       "120                        0                              1\n",
       "116                        0                              1\n",
       "84                         1                              3\n",
       "149                        1                              3"
      ]
     },
     "execution_count": 24,
     "metadata": {},
     "output_type": "execute_result"
    }
   ],
   "source": [
    "print(df_main.total_dialysis_stations.quantile(quantile_array))\n",
    "df_main[['total_dialysis_stations',\n",
    "         'strat_total_dialysis_stations']].sort_values(by = \n",
    "                                                       'total_dialysis_stations').head(115).tail()"
   ]
  },
  {
   "cell_type": "markdown",
   "metadata": {},
   "source": [
    "# Does Correlation Change with Stratification?"
   ]
  },
  {
   "cell_type": "code",
   "execution_count": 25,
   "metadata": {},
   "outputs": [
    {
     "data": {
      "text/html": [
       "<div>\n",
       "<style scoped>\n",
       "    .dataframe tbody tr th:only-of-type {\n",
       "        vertical-align: middle;\n",
       "    }\n",
       "\n",
       "    .dataframe tbody tr th {\n",
       "        vertical-align: top;\n",
       "    }\n",
       "\n",
       "    .dataframe thead th {\n",
       "        text-align: right;\n",
       "    }\n",
       "</style>\n",
       "<table border=\"1\" class=\"dataframe\">\n",
       "  <thead>\n",
       "    <tr style=\"text-align: right;\">\n",
       "      <th></th>\n",
       "      <th>il_zip</th>\n",
       "      <th>dialysis_centers</th>\n",
       "      <th>total_dialysis_stations</th>\n",
       "      <th>latitude</th>\n",
       "      <th>longitude</th>\n",
       "      <th>percent_below_poverty_line</th>\n",
       "      <th>tot_pop</th>\n",
       "      <th>percent_white</th>\n",
       "      <th>percent_black</th>\n",
       "      <th>percent_american_indian</th>\n",
       "      <th>...</th>\n",
       "      <th>tests_per_capita</th>\n",
       "      <th>positives_per_capita</th>\n",
       "      <th>infection_rate</th>\n",
       "      <th>strat_dialysis_centers</th>\n",
       "      <th>strat_total_dialysis_stations</th>\n",
       "      <th>strat_percent_below_poverty_line</th>\n",
       "      <th>strat_percent_black</th>\n",
       "      <th>strat_percent_some_other_race</th>\n",
       "      <th>strat_percent_hispanic</th>\n",
       "      <th>strat_perc_families_below_poverty</th>\n",
       "    </tr>\n",
       "  </thead>\n",
       "  <tbody>\n",
       "    <tr>\n",
       "      <td>2</td>\n",
       "      <td>60005</td>\n",
       "      <td>2</td>\n",
       "      <td>20</td>\n",
       "      <td>42.063852</td>\n",
       "      <td>-87.985566</td>\n",
       "      <td>7.9</td>\n",
       "      <td>29539</td>\n",
       "      <td>84.4</td>\n",
       "      <td>3.0</td>\n",
       "      <td>0.5</td>\n",
       "      <td>...</td>\n",
       "      <td>0.017672</td>\n",
       "      <td>0.003047</td>\n",
       "      <td>0.172414</td>\n",
       "      <td>4</td>\n",
       "      <td>3</td>\n",
       "      <td>2.0</td>\n",
       "      <td>1.0</td>\n",
       "      <td>3.0</td>\n",
       "      <td>2.0</td>\n",
       "      <td>2.0</td>\n",
       "    </tr>\n",
       "    <tr>\n",
       "      <td>3</td>\n",
       "      <td>60007</td>\n",
       "      <td>3</td>\n",
       "      <td>29</td>\n",
       "      <td>42.007574</td>\n",
       "      <td>-87.993059</td>\n",
       "      <td>3.8</td>\n",
       "      <td>33420</td>\n",
       "      <td>85.1</td>\n",
       "      <td>1.6</td>\n",
       "      <td>0.7</td>\n",
       "      <td>...</td>\n",
       "      <td>0.019240</td>\n",
       "      <td>0.003740</td>\n",
       "      <td>0.194401</td>\n",
       "      <td>4</td>\n",
       "      <td>4</td>\n",
       "      <td>1.0</td>\n",
       "      <td>1.0</td>\n",
       "      <td>3.0</td>\n",
       "      <td>3.0</td>\n",
       "      <td>1.0</td>\n",
       "    </tr>\n",
       "    <tr>\n",
       "      <td>4</td>\n",
       "      <td>60008</td>\n",
       "      <td>1</td>\n",
       "      <td>24</td>\n",
       "      <td>42.074453</td>\n",
       "      <td>-88.022667</td>\n",
       "      <td>6.3</td>\n",
       "      <td>21833</td>\n",
       "      <td>72.9</td>\n",
       "      <td>5.4</td>\n",
       "      <td>1.5</td>\n",
       "      <td>...</td>\n",
       "      <td>0.022855</td>\n",
       "      <td>0.007374</td>\n",
       "      <td>0.322645</td>\n",
       "      <td>2</td>\n",
       "      <td>4</td>\n",
       "      <td>2.0</td>\n",
       "      <td>2.0</td>\n",
       "      <td>4.0</td>\n",
       "      <td>4.0</td>\n",
       "      <td>2.0</td>\n",
       "    </tr>\n",
       "    <tr>\n",
       "      <td>10</td>\n",
       "      <td>60016</td>\n",
       "      <td>0</td>\n",
       "      <td>0</td>\n",
       "      <td>42.049732</td>\n",
       "      <td>-87.891676</td>\n",
       "      <td>9.2</td>\n",
       "      <td>59637</td>\n",
       "      <td>68.1</td>\n",
       "      <td>4.3</td>\n",
       "      <td>0.9</td>\n",
       "      <td>...</td>\n",
       "      <td>0.034978</td>\n",
       "      <td>0.011855</td>\n",
       "      <td>0.338926</td>\n",
       "      <td>1</td>\n",
       "      <td>1</td>\n",
       "      <td>3.0</td>\n",
       "      <td>2.0</td>\n",
       "      <td>2.0</td>\n",
       "      <td>3.0</td>\n",
       "      <td>3.0</td>\n",
       "    </tr>\n",
       "    <tr>\n",
       "      <td>11</td>\n",
       "      <td>60018</td>\n",
       "      <td>1</td>\n",
       "      <td>13</td>\n",
       "      <td>41.997463</td>\n",
       "      <td>-87.896967</td>\n",
       "      <td>13.9</td>\n",
       "      <td>30386</td>\n",
       "      <td>78.3</td>\n",
       "      <td>2.9</td>\n",
       "      <td>0.4</td>\n",
       "      <td>...</td>\n",
       "      <td>0.031462</td>\n",
       "      <td>0.010070</td>\n",
       "      <td>0.320084</td>\n",
       "      <td>2</td>\n",
       "      <td>3</td>\n",
       "      <td>3.0</td>\n",
       "      <td>1.0</td>\n",
       "      <td>4.0</td>\n",
       "      <td>4.0</td>\n",
       "      <td>4.0</td>\n",
       "    </tr>\n",
       "  </tbody>\n",
       "</table>\n",
       "<p>5 rows × 33 columns</p>\n",
       "</div>"
      ],
      "text/plain": [
       "    il_zip  dialysis_centers  total_dialysis_stations   latitude  longitude  \\\n",
       "2    60005                 2                       20  42.063852 -87.985566   \n",
       "3    60007                 3                       29  42.007574 -87.993059   \n",
       "4    60008                 1                       24  42.074453 -88.022667   \n",
       "10   60016                 0                        0  42.049732 -87.891676   \n",
       "11   60018                 1                       13  41.997463 -87.896967   \n",
       "\n",
       "    percent_below_poverty_line  tot_pop  percent_white  percent_black  \\\n",
       "2                          7.9    29539           84.4            3.0   \n",
       "3                          3.8    33420           85.1            1.6   \n",
       "4                          6.3    21833           72.9            5.4   \n",
       "10                         9.2    59637           68.1            4.3   \n",
       "11                        13.9    30386           78.3            2.9   \n",
       "\n",
       "    percent_american_indian  ...  tests_per_capita  positives_per_capita  \\\n",
       "2                       0.5  ...          0.017672              0.003047   \n",
       "3                       0.7  ...          0.019240              0.003740   \n",
       "4                       1.5  ...          0.022855              0.007374   \n",
       "10                      0.9  ...          0.034978              0.011855   \n",
       "11                      0.4  ...          0.031462              0.010070   \n",
       "\n",
       "    infection_rate  strat_dialysis_centers  strat_total_dialysis_stations  \\\n",
       "2         0.172414                       4                              3   \n",
       "3         0.194401                       4                              4   \n",
       "4         0.322645                       2                              4   \n",
       "10        0.338926                       1                              1   \n",
       "11        0.320084                       2                              3   \n",
       "\n",
       "    strat_percent_below_poverty_line  strat_percent_black  \\\n",
       "2                                2.0                  1.0   \n",
       "3                                1.0                  1.0   \n",
       "4                                2.0                  2.0   \n",
       "10                               3.0                  2.0   \n",
       "11                               3.0                  1.0   \n",
       "\n",
       "    strat_percent_some_other_race  strat_percent_hispanic  \\\n",
       "2                             3.0                     2.0   \n",
       "3                             3.0                     3.0   \n",
       "4                             4.0                     4.0   \n",
       "10                            2.0                     3.0   \n",
       "11                            4.0                     4.0   \n",
       "\n",
       "    strat_perc_families_below_poverty  \n",
       "2                                 2.0  \n",
       "3                                 1.0  \n",
       "4                                 2.0  \n",
       "10                                3.0  \n",
       "11                                4.0  \n",
       "\n",
       "[5 rows x 33 columns]"
      ]
     },
     "execution_count": 25,
     "metadata": {},
     "output_type": "execute_result"
    }
   ],
   "source": [
    "df_main.head()"
   ]
  },
  {
   "cell_type": "code",
   "execution_count": 26,
   "metadata": {},
   "outputs": [
    {
     "name": "stderr",
     "output_type": "stream",
     "text": [
      "/Users/ranitsengupta/opt/anaconda3/lib/python3.7/site-packages/numpy/lib/function_base.py:2534: RuntimeWarning: invalid value encountered in true_divide\n",
      "  c /= stddev[:, None]\n",
      "/Users/ranitsengupta/opt/anaconda3/lib/python3.7/site-packages/numpy/lib/function_base.py:2535: RuntimeWarning: invalid value encountered in true_divide\n",
      "  c /= stddev[None, :]\n",
      "/Users/ranitsengupta/opt/anaconda3/lib/python3.7/site-packages/scipy/stats/_distn_infrastructure.py:903: RuntimeWarning: invalid value encountered in greater\n",
      "  return (a < x) & (x < b)\n",
      "/Users/ranitsengupta/opt/anaconda3/lib/python3.7/site-packages/scipy/stats/_distn_infrastructure.py:903: RuntimeWarning: invalid value encountered in less\n",
      "  return (a < x) & (x < b)\n",
      "/Users/ranitsengupta/opt/anaconda3/lib/python3.7/site-packages/scipy/stats/_distn_infrastructure.py:1912: RuntimeWarning: invalid value encountered in less_equal\n",
      "  cond2 = cond0 & (x <= _a)\n"
     ]
    }
   ],
   "source": [
    "df_stratified_correlation = pd.DataFrame(index = significant_factors,\n",
    "                                         columns = [1,2,3,4])\n",
    "for factor in significant_factors:\n",
    "\n",
    "    strata_factor = 'strat_' + factor\n",
    "    for strata in sorted(list(df_main[strata_factor].unique())):\n",
    "        df = df_main[df_main[strata_factor] == strata]\n",
    "        x = df['positives_per_capita']\n",
    "        y = df[factor]\n",
    "        df_stratified_correlation.loc[factor, int(strata)] = scipy.stats.spearmanr(x,y).correlation\n",
    "        \n",
    "    "
   ]
  },
  {
   "cell_type": "markdown",
   "metadata": {},
   "source": [
    "# Partial Correlations"
   ]
  },
  {
   "cell_type": "code",
   "execution_count": 27,
   "metadata": {},
   "outputs": [
    {
     "data": {
      "text/plain": [
       "['dialysis_centers',\n",
       " 'total_dialysis_stations',\n",
       " 'percent_below_poverty_line',\n",
       " 'percent_black',\n",
       " 'percent_some_other_race',\n",
       " 'percent_hispanic',\n",
       " 'perc_families_below_poverty']"
      ]
     },
     "execution_count": 27,
     "metadata": {},
     "output_type": "execute_result"
    }
   ],
   "source": [
    "significant_factors"
   ]
  },
  {
   "cell_type": "code",
   "execution_count": 28,
   "metadata": {},
   "outputs": [
    {
     "data": {
      "text/plain": [
       "Index(['il_zip', 'dialysis_centers', 'total_dialysis_stations', 'latitude',\n",
       "       'longitude', 'percent_below_poverty_line', 'tot_pop', 'percent_white',\n",
       "       'percent_black', 'percent_american_indian', 'percent_asian',\n",
       "       'percent_native_hawaiian_pacific_islander', 'percent_some_other_race',\n",
       "       'median_household_income', 'percent_hispanic',\n",
       "       'percent_NOT_hisp_or_latino_any_race', 'perc_age_65_and_above',\n",
       "       'perc_age_75_and_above', 'median_age', 'males_per_hundred_females',\n",
       "       'perc_families_below_poverty', 'total_tested', 'total_positive',\n",
       "       'tests_per_capita', 'positives_per_capita', 'infection_rate',\n",
       "       'strat_dialysis_centers', 'strat_total_dialysis_stations',\n",
       "       'strat_percent_below_poverty_line', 'strat_percent_black',\n",
       "       'strat_percent_some_other_race', 'strat_percent_hispanic',\n",
       "       'strat_perc_families_below_poverty'],\n",
       "      dtype='object')"
      ]
     },
     "execution_count": 28,
     "metadata": {},
     "output_type": "execute_result"
    }
   ],
   "source": [
    "df_main.columns"
   ]
  },
  {
   "cell_type": "code",
   "execution_count": 29,
   "metadata": {},
   "outputs": [
    {
     "data": {
      "text/html": [
       "<div>\n",
       "<style scoped>\n",
       "    .dataframe tbody tr th:only-of-type {\n",
       "        vertical-align: middle;\n",
       "    }\n",
       "\n",
       "    .dataframe tbody tr th {\n",
       "        vertical-align: top;\n",
       "    }\n",
       "\n",
       "    .dataframe thead th {\n",
       "        text-align: right;\n",
       "    }\n",
       "</style>\n",
       "<table border=\"1\" class=\"dataframe\">\n",
       "  <thead>\n",
       "    <tr style=\"text-align: right;\">\n",
       "      <th></th>\n",
       "      <th>n</th>\n",
       "      <th>r</th>\n",
       "      <th>CI95%</th>\n",
       "      <th>r2</th>\n",
       "      <th>adj_r2</th>\n",
       "      <th>p-val</th>\n",
       "      <th>power</th>\n",
       "    </tr>\n",
       "  </thead>\n",
       "  <tbody>\n",
       "    <tr>\n",
       "      <td>spearman</td>\n",
       "      <td>222</td>\n",
       "      <td>0.625</td>\n",
       "      <td>[0.54, 0.7]</td>\n",
       "      <td>0.391</td>\n",
       "      <td>0.385</td>\n",
       "      <td>0.0</td>\n",
       "      <td>1.0</td>\n",
       "    </tr>\n",
       "  </tbody>\n",
       "</table>\n",
       "</div>"
      ],
      "text/plain": [
       "            n      r        CI95%     r2  adj_r2  p-val  power\n",
       "spearman  222  0.625  [0.54, 0.7]  0.391   0.385    0.0    1.0"
      ]
     },
     "execution_count": 29,
     "metadata": {},
     "output_type": "execute_result"
    }
   ],
   "source": [
    "import pingouin as pg\n",
    "pg.partial_corr(data=df_main, x='percent_below_poverty_line', \n",
    "                y= 'positives_per_capita', covar='median_age', method='spearman').round(3)"
   ]
  },
  {
   "cell_type": "code",
   "execution_count": 30,
   "metadata": {},
   "outputs": [
    {
     "name": "stderr",
     "output_type": "stream",
     "text": [
      "/Users/ranitsengupta/opt/anaconda3/lib/python3.7/site-packages/outdated/utils.py:18: OutdatedPackageWarning: The package pingouin is out of date. Your version is 0.3.3, the latest is 0.3.4.\n",
      "Set the environment variable OUTDATED_IGNORE=1 to disable these warnings.\n",
      "  **kwargs\n"
     ]
    },
    {
     "data": {
      "text/html": [
       "<div>\n",
       "<style scoped>\n",
       "    .dataframe tbody tr th:only-of-type {\n",
       "        vertical-align: middle;\n",
       "    }\n",
       "\n",
       "    .dataframe tbody tr th {\n",
       "        vertical-align: top;\n",
       "    }\n",
       "\n",
       "    .dataframe thead th {\n",
       "        text-align: right;\n",
       "    }\n",
       "</style>\n",
       "<table border=\"1\" class=\"dataframe\">\n",
       "  <thead>\n",
       "    <tr style=\"text-align: right;\">\n",
       "      <th></th>\n",
       "      <th>n</th>\n",
       "      <th>r</th>\n",
       "      <th>CI95%</th>\n",
       "      <th>r2</th>\n",
       "      <th>adj_r2</th>\n",
       "      <th>p-val</th>\n",
       "      <th>power</th>\n",
       "    </tr>\n",
       "  </thead>\n",
       "  <tbody>\n",
       "    <tr>\n",
       "      <td>spearman</td>\n",
       "      <td>222</td>\n",
       "      <td>-0.243</td>\n",
       "      <td>[-0.36, -0.12]</td>\n",
       "      <td>0.059</td>\n",
       "      <td>0.051</td>\n",
       "      <td>0.0</td>\n",
       "      <td>0.958</td>\n",
       "    </tr>\n",
       "  </tbody>\n",
       "</table>\n",
       "</div>"
      ],
      "text/plain": [
       "            n      r           CI95%     r2  adj_r2  p-val  power\n",
       "spearman  222 -0.243  [-0.36, -0.12]  0.059   0.051    0.0  0.958"
      ]
     },
     "execution_count": 30,
     "metadata": {},
     "output_type": "execute_result"
    }
   ],
   "source": [
    "import pingouin as pg\n",
    "pg.partial_corr(data=df_main, x='percent_black', \n",
    "                y= 'positives_per_capita', covar='percent_white', method='spearman').round(3)"
   ]
  },
  {
   "cell_type": "code",
   "execution_count": null,
   "metadata": {},
   "outputs": [],
   "source": []
  },
  {
   "cell_type": "code",
   "execution_count": null,
   "metadata": {},
   "outputs": [],
   "source": []
  }
 ],
 "metadata": {
  "kernelspec": {
   "display_name": "Python 3",
   "language": "python",
   "name": "python3"
  },
  "language_info": {
   "codemirror_mode": {
    "name": "ipython",
    "version": 3
   },
   "file_extension": ".py",
   "mimetype": "text/x-python",
   "name": "python",
   "nbconvert_exporter": "python",
   "pygments_lexer": "ipython3",
   "version": "3.7.4"
  }
 },
 "nbformat": 4,
 "nbformat_minor": 2
}
